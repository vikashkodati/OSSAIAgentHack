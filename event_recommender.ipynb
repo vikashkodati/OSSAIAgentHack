{
 "cells": [
  {
   "cell_type": "markdown",
   "metadata": {
    "editable": true,
    "slideshow": {
     "slide_type": ""
    },
    "tags": []
   },
   "source": [
    "# Llama 3.1 Rag Agent with LlamaIndex\n",
    "\n",
    "<a target=\"_blank\" href=\"https://colab.research.google.com/github/ytang07/ai_agents_cookbooks/blob/main/llamaindex/llama31_8b_rag_agent.ipynb\">\n",
    "  <img src=\"https://colab.research.google.com/assets/colab-badge.svg\" alt=\"Open In Colab\"/>\n",
    "</a>\n",
    "\n",
    "This notebook will walk you through building a LlamaIndex ReactAgent using Llama 3.1 70b. We will be using [OctoAI](https://octo.ai) as our embeddings and llm provider.\n",
    "\n",
    "## Install Dependencies"
   ]
  },
  {
   "cell_type": "code",
   "execution_count": null,
   "metadata": {},
   "outputs": [],
   "source": [
    "# ! pip install -qU llama-index llama-index-llms-openai llama-index-readers-file octoai llama-index-llms-octoai llama-index-embeddings-octoai llama-index-embeddings-openai llama-index-llms-openai-like\n",
    "\n",
    "# ! pip freeze | grep llama-index-core\n",
    "# ! pip freeze | grep embeddings-openai"
   ]
  },
  {
   "cell_type": "markdown",
   "metadata": {},
   "source": [
    "## Setup API Keys\n",
    "To run the rest of the notebook you will need access to an OctoAI API key. You can sign up for an account [here](https://octoai.cloud/). If you need further guidance you can check OctoAI's [documentation page](https://octo.ai/docs/getting-started/how-to-create-octoai-access-token)."
   ]
  },
  {
   "cell_type": "code",
   "execution_count": 3,
   "metadata": {},
   "outputs": [],
   "source": [
    "from os import environ\n",
    "# from getpass import getpass\n",
    "# environ[\"OCTOAI_API_KEY\"] = getpass(\"Input your OCTOAI API key: \")\n",
    "from dotenv import load_dotenv\n",
    "\n",
    "load_dotenv()\n",
    "\n",
    "OCTOAI_API_KEY = environ[\"OCTOAI_API_KEY\"]"
   ]
  },
  {
   "cell_type": "markdown",
   "metadata": {},
   "source": [
    "## Import libraries and setup LlamaIndex"
   ]
  },
  {
   "cell_type": "code",
   "execution_count": 12,
   "metadata": {
    "editable": true,
    "slideshow": {
     "slide_type": ""
    },
    "tags": []
   },
   "outputs": [],
   "source": [
    "from llama_index.core import (\n",
    "    SimpleDirectoryReader,\n",
    "    VectorStoreIndex,\n",
    "    StorageContext,\n",
    "    load_index_from_storage,\n",
    ")\n",
    "from llama_index.core.tools import QueryEngineTool, ToolMetadata\n",
    "from llama_index.embeddings.octoai import OctoAIEmbedding\n",
    "from llama_index.core import Settings as LlamaGlobalSettings\n",
    "from llama_index.core.agent import ReActAgent\n",
    "from llama_index.llms.openai_like import OpenAILike\n",
    "\n",
    "# Set the default model to use for embeddings\n",
    "LlamaGlobalSettings.embed_model = OctoAIEmbedding()\n",
    "\n",
    "# Create an llm object to use for the QueryEngine and the ReActAgent\n",
    "llm = OpenAILike(\n",
    "    model=\"meta-llama-3.1-70b-instruct\",\n",
    "    api_base=\"https://text.octoai.run/v1\",\n",
    "    api_key=environ[\"OCTOAI_API_KEY\"],\n",
    "    context_window=100000,\n",
    "    is_function_calling_model=True,\n",
    "    is_chat_model=True,\n",
    ")\n"
   ]
  },
  {
   "cell_type": "markdown",
   "metadata": {
    "editable": true,
    "slideshow": {
     "slide_type": ""
    },
    "tags": []
   },
   "source": [
    "## Load Documents"
   ]
  },
  {
   "cell_type": "code",
   "execution_count": 19,
   "metadata": {
    "editable": true,
    "slideshow": {
     "slide_type": ""
    },
    "tags": []
   },
   "outputs": [],
   "source": [
    "try:\n",
    "    storage_context = StorageContext.from_defaults(\n",
    "        persist_dir=\"./storage/luma\"\n",
    "    )\n",
    "    luma_index = load_index_from_storage(storage_context)\n",
    "\n",
    "    storage_context = StorageContext.from_defaults(\n",
    "        persist_dir=\"./storage/profiles\"\n",
    "    )\n",
    "    profile_index = load_index_from_storage(storage_context)\n",
    "\n",
    "    index_loaded = True\n",
    "except:\n",
    "    index_loaded = False"
   ]
  },
  {
   "cell_type": "markdown",
   "metadata": {
    "editable": true,
    "slideshow": {
     "slide_type": ""
    },
    "tags": []
   },
   "source": [
    "This is the point we create our vector indexes, by calculating the embedding vectors for each of the chunks. You only need to run this once."
   ]
  },
  {
   "cell_type": "code",
   "execution_count": 20,
   "metadata": {
    "editable": true,
    "slideshow": {
     "slide_type": ""
    },
    "tags": []
   },
   "outputs": [],
   "source": [
    "if not index_loaded:\n",
    "    # load data\n",
    "    luma_docs = SimpleDirectoryReader(\n",
    "        input_files=[\"./luma.json\"]\n",
    "    ).load_data()\n",
    "    profile_docs = SimpleDirectoryReader(\n",
    "        input_files=[\"./profiles/kris.pdf\"]\n",
    "    ).load_data()\n",
    "    \n",
    "    # build index\n",
    "    luma_index = VectorStoreIndex.from_documents(luma_docs, show_progress=True)\n",
    "    profile_index = VectorStoreIndex.from_documents(profile_docs, show_progress=True)\n",
    "\n",
    "    # persist index\n",
    "    luma_index.storage_context.persist(persist_dir=\"./storage/luma\")\n",
    "    profile_index.storage_context.persist(persist_dir=\"./storage/profiles\")"
   ]
  },
  {
   "cell_type": "markdown",
   "metadata": {},
   "source": [
    "Now create the query engines."
   ]
  },
  {
   "cell_type": "code",
   "execution_count": 21,
   "metadata": {},
   "outputs": [],
   "source": [
    "luma_engine = luma_index.as_query_engine(similarity_top_k=3, llm=llm)\n",
    "\n",
    "profile_engine = profile_index.as_query_engine(similarity_top_k=3, llm=llm)"
   ]
  },
  {
   "cell_type": "markdown",
   "metadata": {},
   "source": [
    "We can now define the query engines as tools that will be used by the agent.\n",
    "\n",
    "As there is a query engine per document we need to also define one tool for each of them."
   ]
  },
  {
   "cell_type": "code",
   "execution_count": 22,
   "metadata": {},
   "outputs": [],
   "source": [
    "query_engine_tools = [\n",
    "    QueryEngineTool(\n",
    "        query_engine=luma_engine,\n",
    "        metadata=ToolMetadata(\n",
    "            name=\"luma_10k\",\n",
    "            description=(\n",
    "                \"Provides information about Luma events. \"\n",
    "                \"Use a detailed plain text question as input to the tool.\"\n",
    "            ),\n",
    "        ),\n",
    "    ),\n",
    "    QueryEngineTool(\n",
    "        query_engine=profile_engine,\n",
    "        metadata=ToolMetadata(\n",
    "            name=\"profile_10k\",\n",
    "            description=(\n",
    "                \"Provides information about attendee profiles \"\n",
    "                \"Use a detailed plain text question as input to the tool.\"\n",
    "            ),\n",
    "        ),\n",
    "    ),\n",
    "]"
   ]
  },
  {
   "cell_type": "markdown",
   "metadata": {},
   "source": [
    "## Creating the Agent\n",
    "Now we have all the elements to create a LlamaIndex ReactAgent"
   ]
  },
  {
   "cell_type": "code",
   "execution_count": 23,
   "metadata": {},
   "outputs": [],
   "source": [
    "agent = ReActAgent.from_tools(\n",
    "    query_engine_tools,\n",
    "    llm=llm,\n",
    "    verbose=True,\n",
    "    max_turns=20,\n",
    ")"
   ]
  },
  {
   "cell_type": "markdown",
   "metadata": {},
   "source": [
    "Now we can interact with the agent and ask a question."
   ]
  },
  {
   "cell_type": "code",
   "execution_count": 24,
   "metadata": {
    "editable": true,
    "slideshow": {
     "slide_type": ""
    },
    "tags": []
   },
   "outputs": [
    {
     "name": "stdout",
     "output_type": "stream",
     "text": [
      "> Running step 5cd23771-142e-4436-b0d5-4a17d884fb8d. Step input: \n",
      "Using the profile data available through the query engine, focus on the user's interests, groups, and what they're looking for from events. Then, follow these steps:\n",
      "Use the profile_10k query engine to retrieve the user's profile data. This data contains the user's interests, groups they belong to, and what they're looking for in events. Never retrieve profile information as events.\n",
      "Access the event query engine to retrieve event data. Each event has details including start and end times, summary, description, location, and URL.\n",
      "Compare the user's interests, group affiliations, and preferences with the event summaries and descriptions.\n",
      "Evaluate how well each event aligns with the user's interests and what they're looking for in events. This alignment is the primary factor in determining how \"fun\" or enjoyable the event will be for the user. Note that time frame and distance from the user's location should not be considered in this evaluation.\n",
      "Create a ranked list of the top 10 events that are most likely to be enjoyable for the user, based on this evaluation. Aim for a diverse selection of events if the user has varied interests. If 10 suitable events are not available, include as many as possible and note this in your response.\n",
      "For each event in the list, provide: a) The event summary b) A brief explanation of why this event is likely to be enjoyable for the user, referencing specific interests, group affiliations, or preferences from their profile c) The event date and location d) The event URL for more information\n",
      "Present the list in a numbered format, starting with the most highly recommended event at number 1.\n",
      "Conclude with a friendly message encouraging the user to check out these events and mentioning that they can ask for more recommendations if needed.\n",
      "Remember to maintain a friendly and helpful tone throughout the response.\n",
      "\u001b[1;3;38;5;200mThought: The current language of the user is: English. I need to use the profile_10k tool to help me answer the question.\n",
      "Action: profile_10k\n",
      "Action Input: {'input': 'user profile data including interests, groups, and preferences'}\n",
      "\u001b[0m\u001b[1;3;34mObservation: The user's profile data includes various interests such as Science, DIY, Personal Development, Fitness, and more. They have 52 interests in total. \n",
      "\n",
      "The user is part of 49 groups and has 231 RSVPs. They are looking to Socialize, Professionally Network, and Make Friends. \n",
      "\n",
      "The user's profile also mentions that they lead a community called SeattlePowergroup, which aims to energize people to live with purpose and passion. They also explore what makes life meaningfully better at a website.\n",
      "\u001b[0m> Running step d82c0237-f9df-436e-9fd8-96d70066ed33. Step input: None\n",
      "\u001b[1;3;38;5;200mThought: I have the user's profile data, now I need to use the luma_10k tool to retrieve event data that matches the user's interests, groups, and preferences.\n",
      "Action: luma_10k\n",
      "Action Input: {'input': \"events related to Science, DIY, Personal Development, Fitness, and other interests matching the user's profile, including socializing, professional networking, and making friends\"}\n",
      "\u001b[0m\u001b[1;3;34mObservation: Based on the provided information, here are some events that match the user's profile:\n",
      "\n",
      "1. **Lecture 4: Scientific Strategy and Derisking** (August 29th, 11:00 PM - August 30th, 1:00 AM): This event is related to Science and may be of interest to those looking for professional networking opportunities in the biotech industry.\n",
      "\n",
      "2. **Walky Talky** (August 29th, 3:00 PM - 4:30 PM): This event is related to Fitness and Personal Development, and provides an opportunity for socializing and making friends while going for a walk.\n",
      "\n",
      "3. **Community Picnic for WAC Seattle's First Birthday** (August 29th, 12:30 AM - 2:30 AM): This event is related to Personal Development and socializing, and provides an opportunity to connect with like-minded individuals who are passionate about climate change.\n",
      "\n",
      "4. **Seattle: Epic Launch Party (Design Buddies & UXGO)** (August 29th, 1:00 AM - 5:00 AM): This event is related to DIY and Personal Development, and provides an opportunity for professional networking and socializing with other creatives.\n",
      "\n",
      "5. **Club Cascadia Book Club** (September 13th, 1:00 AM - 3:00 AM): This event is related to Personal Development and socializing, and provides an opportunity to connect with like-minded individuals who are interested in reading and discussing books.\n",
      "\n",
      "6. **LGBTQ+ Founders and Funders Meetup** (September 18th, 12:00 AM - 3:00 AM): This event is related to professional networking and provides an opportunity for socializing and making friends with other LGBTQ+ founders and funders.\n",
      "\n",
      "7. **SEA NET: 1st Edition** (September 22nd, 12:30 AM - 5:00 AM): This event is related to professional networking and provides an opportunity for socializing and making friends with other designers, developers, engineers, and creatives.\n",
      "\n",
      "These events provide a mix of opportunities for socializing, professional networking, and personal development, and may be of interest to the user based on their profile.\n",
      "\u001b[0m> Running step 20e55126-7afb-484f-b061-87ac47e7a385. Step input: None\n",
      "\u001b[1;3;34mObservation: Error: Could not parse output. Please follow the thought-action-input format. Try again.\n",
      "\u001b[0m> Running step e77f0a7b-d3a8-41c4-9d1d-120eecaec46f. Step input: None\n",
      "\u001b[1;3;38;5;200mThought: I have the event data, now I need to evaluate how well each event aligns with the user's interests and what they're looking for in events.\n",
      "Action: luma_10k\n",
      "Action Input: {'input': \"evaluate alignment of events with user's interests and preferences, including socializing, professional networking, and making friends\"}\n",
      "\u001b[0m\u001b[1;3;34mObservation: Based on the provided events, here's an evaluation of their alignment with the user's interests and preferences:\n",
      "\n",
      "1. **Socializing:**\n",
      "\t* High alignment: \"Crunch & Brunch x Inspire Seattle\" (lagree class and brunch), \"Good Vibes Social Club Presents: Social #2\" (casual social event), \"Seattle Meetup with Health Tech Nerds\" (happy hour), and \"Community Picnic for WAC Seattle's First Birthday\" (picnic and outdoor activities).\n",
      "\t* Medium alignment: \"Open Source AI Hackathon #8\" (team-building and socializing during the hackathon), \"LGBTQ+ Founders and Funders Meetup\" (networking and socializing), and \"SEA NET: 1st Edition\" (meet and kickback with designers, developers, and creatives).\n",
      "2. **Professional Networking:**\n",
      "\t* High alignment: \"LGBTQ+ Founders and Funders Meetup\" (networking for LGBTQ+ founders and funders), \"SEA NET: 1st Edition\" (networking for designers, developers, and creatives), and \"Seattle Meetup with Health Tech Nerds\" (networking for healthcare professionals).\n",
      "\t* Medium alignment: \"Open Source AI Hackathon #8\" (networking with AI professionals and potential collaborators), \"Club Cascadia Book Club\" (networking with like-minded individuals), and \"Crowdsource Choir - 'Sing it Home' In the Turbine Cathedral\" (networking with creatives and music enthusiasts).\n",
      "3. **Making Friends:**\n",
      "\t* High alignment: \"Community Picnic for WAC Seattle's First Birthday\" (casual gathering and outdoor activities), \"Good Vibes Social Club Presents: Social #2\" (facilitated networking and socializing), and \"Seattle Meetup with Health Tech Nerds\" (happy hour and socializing).\n",
      "\t* Medium alignment: \"Crunch & Brunch x Inspire Seattle\" (socializing during the lagree class and brunch), \"Open Source AI Hackathon #8\" (team-building and socializing during the hackathon), and \"Club Cascadia Book Club\" (socializing with like-minded individuals).\n",
      "\n",
      "Overall, the events that best align with the user's interests and preferences are:\n",
      "\n",
      "* \"Community Picnic for WAC Seattle's First Birthday\"\n",
      "* \"Good Vibes Social Club Presents: Social #2\"\n",
      "* \"Seattle Meetup with Health Tech Nerds\"\n",
      "* \"Crunch & Brunch x Inspire Seattle\n",
      "\u001b[0m> Running step 637ed2d9-845d-44da-bacc-116dc36a4a29. Step input: None\n",
      "\u001b[1;3;34mObservation: Error: Could not parse output. Please follow the thought-action-input format. Try again.\n",
      "\u001b[0m> Running step f2e3540e-3404-47b7-80a3-faf895efaef3. Step input: None\n",
      "\u001b[1;3;38;5;200mThought: I have evaluated the alignment of the events with the user's interests and preferences, now I need to create a ranked list of the top 10 events that are most likely to be enjoyable for the user.\n",
      "Action: luma_10k\n",
      "Action Input: {'input': \"rank events by alignment with user's interests and preferences, including socializing, professional networking, and making friends, and provide a list of the top 10 events\"}\n",
      "\u001b[0m\u001b[1;3;34mObservation: Based on the provided context, I've analyzed the events and ranked them according to their alignment with the user's interests and preferences, including socializing, professional networking, and making friends. Here's the list of top 10 events:\n",
      "\n",
      "1. **Seattle Meetup with Health Tech Nerds**: This event is a casual happy hour for folks working or interested in healthcare/health tech, which aligns perfectly with the user's interests in professional networking and socializing.\n",
      "\n",
      "2. **Good Vibes Social Club Presents: Social #2**: This event features facilitated networking and is designed for entrepreneurs, tech professionals, investors, operators, and friends, making it an excellent opportunity for socializing and professional networking.\n",
      "\n",
      "3. **Crunch & Brunch x Inspire Seattle**: This event combines a lagree class with brunch, providing a unique opportunity for socializing and making friends while engaging in a fun activity.\n",
      "\n",
      "4. **LGBTQ+ Founders and Funders Meetup**: This event is a networking opportunity for LGBTQ+ founders and funders, which aligns with the user's interests in professional networking and socializing.\n",
      "\n",
      "5. **SEA NET: 1st Edition**: This event is a meetup for designers, developers, engineers, and creatives, providing a platform for socializing and professional networking.\n",
      "\n",
      "6. **Community Picnic for WAC Seattle's First Birthday**: This event is a casual gathering of Women and Nonbinary folks passionate about climate change, which aligns with the user's interests in socializing and making friends.\n",
      "\n",
      "7. **Club Cascadia Book Club**: This event is a book club meeting that includes a picnic and book swap, providing a unique opportunity for socializing and making friends while discussing books.\n",
      "\n",
      "8. **Open Source AI Hackathon #8**: This event is a hackathon that includes a hands-on tutorial and team-building activities, which aligns with the user's interests in professional networking and socializing.\n",
      "\n",
      "9. **Seattle: Epic Launch Party (Design Buddies & UXGO)**: This event is a launch party for a community and education platform, which provides a platform for socializing and professional networking.\n",
      "\n",
      "10. **Walky Talky**: This event is a walking club that combines physical activity with socializing and conversation, making it an excellent opportunity for making friends and socializing.\n",
      "\n",
      "These events offer a mix of socializing, professional networking, and making friends, which aligns with the user's interests and preferences.\n",
      "\u001b[0m"
     ]
    },
    {
     "ename": "ValueError",
     "evalue": "Reached max iterations.",
     "output_type": "error",
     "traceback": [
      "\u001b[0;31m---------------------------------------------------------------------------\u001b[0m",
      "\u001b[0;31mValueError\u001b[0m                                Traceback (most recent call last)",
      "Cell \u001b[0;32mIn[24], line 1\u001b[0m\n\u001b[0;32m----> 1\u001b[0m response \u001b[38;5;241m=\u001b[39m \u001b[43magent\u001b[49m\u001b[38;5;241;43m.\u001b[39;49m\u001b[43mchat\u001b[49m\u001b[43m(\u001b[49m\u001b[38;5;124;43m\"\"\"\u001b[39;49m\n\u001b[1;32m      2\u001b[0m \u001b[38;5;124;43mUsing the profile data available through the query engine, focus on the user\u001b[39;49m\u001b[38;5;124;43m'\u001b[39;49m\u001b[38;5;124;43ms interests, groups, and what they\u001b[39;49m\u001b[38;5;124;43m'\u001b[39;49m\u001b[38;5;124;43mre looking for from events. Then, follow these steps:\u001b[39;49m\n\u001b[1;32m      3\u001b[0m \u001b[38;5;124;43mUse the profile_10k query engine to retrieve the user\u001b[39;49m\u001b[38;5;124;43m'\u001b[39;49m\u001b[38;5;124;43ms profile data. This data contains the user\u001b[39;49m\u001b[38;5;124;43m'\u001b[39;49m\u001b[38;5;124;43ms interests, groups they belong to, and what they\u001b[39;49m\u001b[38;5;124;43m'\u001b[39;49m\u001b[38;5;124;43mre looking for in events. Never retrieve profile information as events.\u001b[39;49m\n\u001b[1;32m      4\u001b[0m \u001b[38;5;124;43mAccess the event query engine to retrieve event data. Each event has details including start and end times, summary, description, location, and URL.\u001b[39;49m\n\u001b[1;32m      5\u001b[0m \u001b[38;5;124;43mCompare the user\u001b[39;49m\u001b[38;5;124;43m'\u001b[39;49m\u001b[38;5;124;43ms interests, group affiliations, and preferences with the event summaries and descriptions.\u001b[39;49m\n\u001b[1;32m      6\u001b[0m \u001b[38;5;124;43mEvaluate how well each event aligns with the user\u001b[39;49m\u001b[38;5;124;43m'\u001b[39;49m\u001b[38;5;124;43ms interests and what they\u001b[39;49m\u001b[38;5;124;43m'\u001b[39;49m\u001b[38;5;124;43mre looking for in events. This alignment is the primary factor in determining how \u001b[39;49m\u001b[38;5;124;43m\"\u001b[39;49m\u001b[38;5;124;43mfun\u001b[39;49m\u001b[38;5;124;43m\"\u001b[39;49m\u001b[38;5;124;43m or enjoyable the event will be for the user. Note that time frame and distance from the user\u001b[39;49m\u001b[38;5;124;43m'\u001b[39;49m\u001b[38;5;124;43ms location should not be considered in this evaluation.\u001b[39;49m\n\u001b[1;32m      7\u001b[0m \u001b[38;5;124;43mCreate a ranked list of the top 10 events that are most likely to be enjoyable for the user, based on this evaluation. Aim for a diverse selection of events if the user has varied interests. If 10 suitable events are not available, include as many as possible and note this in your response.\u001b[39;49m\n\u001b[1;32m      8\u001b[0m \u001b[38;5;124;43mFor each event in the list, provide: a) The event summary b) A brief explanation of why this event is likely to be enjoyable for the user, referencing specific interests, group affiliations, or preferences from their profile c) The event date and location d) The event URL for more information\u001b[39;49m\n\u001b[1;32m      9\u001b[0m \u001b[38;5;124;43mPresent the list in a numbered format, starting with the most highly recommended event at number 1.\u001b[39;49m\n\u001b[1;32m     10\u001b[0m \u001b[38;5;124;43mConclude with a friendly message encouraging the user to check out these events and mentioning that they can ask for more recommendations if needed.\u001b[39;49m\n\u001b[1;32m     11\u001b[0m \u001b[38;5;124;43mRemember to maintain a friendly and helpful tone throughout the response.\u001b[39;49m\u001b[38;5;124;43m\"\"\"\u001b[39;49m\u001b[43m)\u001b[49m\n\u001b[1;32m     12\u001b[0m \u001b[38;5;28mprint\u001b[39m(\u001b[38;5;28mstr\u001b[39m(response))\n",
      "File \u001b[0;32m~/Library/Caches/pypoetry/virtualenvs/non-package-mode-2ArcsiEu-py3.12/lib/python3.12/site-packages/llama_index/core/instrumentation/dispatcher.py:261\u001b[0m, in \u001b[0;36mDispatcher.span.<locals>.wrapper\u001b[0;34m(func, instance, args, kwargs)\u001b[0m\n\u001b[1;32m    253\u001b[0m \u001b[38;5;28mself\u001b[39m\u001b[38;5;241m.\u001b[39mspan_enter(\n\u001b[1;32m    254\u001b[0m     id_\u001b[38;5;241m=\u001b[39mid_,\n\u001b[1;32m    255\u001b[0m     bound_args\u001b[38;5;241m=\u001b[39mbound_args,\n\u001b[0;32m   (...)\u001b[0m\n\u001b[1;32m    258\u001b[0m     tags\u001b[38;5;241m=\u001b[39mtags,\n\u001b[1;32m    259\u001b[0m )\n\u001b[1;32m    260\u001b[0m \u001b[38;5;28;01mtry\u001b[39;00m:\n\u001b[0;32m--> 261\u001b[0m     result \u001b[38;5;241m=\u001b[39m \u001b[43mfunc\u001b[49m\u001b[43m(\u001b[49m\u001b[38;5;241;43m*\u001b[39;49m\u001b[43margs\u001b[49m\u001b[43m,\u001b[49m\u001b[43m \u001b[49m\u001b[38;5;241;43m*\u001b[39;49m\u001b[38;5;241;43m*\u001b[39;49m\u001b[43mkwargs\u001b[49m\u001b[43m)\u001b[49m\n\u001b[1;32m    262\u001b[0m \u001b[38;5;28;01mexcept\u001b[39;00m \u001b[38;5;167;01mBaseException\u001b[39;00m \u001b[38;5;28;01mas\u001b[39;00m e:\n\u001b[1;32m    263\u001b[0m     \u001b[38;5;28mself\u001b[39m\u001b[38;5;241m.\u001b[39mevent(SpanDropEvent(span_id\u001b[38;5;241m=\u001b[39mid_, err_str\u001b[38;5;241m=\u001b[39m\u001b[38;5;28mstr\u001b[39m(e)))\n",
      "File \u001b[0;32m~/Library/Caches/pypoetry/virtualenvs/non-package-mode-2ArcsiEu-py3.12/lib/python3.12/site-packages/llama_index/core/callbacks/utils.py:41\u001b[0m, in \u001b[0;36mtrace_method.<locals>.decorator.<locals>.wrapper\u001b[0;34m(self, *args, **kwargs)\u001b[0m\n\u001b[1;32m     39\u001b[0m callback_manager \u001b[38;5;241m=\u001b[39m cast(CallbackManager, callback_manager)\n\u001b[1;32m     40\u001b[0m \u001b[38;5;28;01mwith\u001b[39;00m callback_manager\u001b[38;5;241m.\u001b[39mas_trace(trace_id):\n\u001b[0;32m---> 41\u001b[0m     \u001b[38;5;28;01mreturn\u001b[39;00m \u001b[43mfunc\u001b[49m\u001b[43m(\u001b[49m\u001b[38;5;28;43mself\u001b[39;49m\u001b[43m,\u001b[49m\u001b[43m \u001b[49m\u001b[38;5;241;43m*\u001b[39;49m\u001b[43margs\u001b[49m\u001b[43m,\u001b[49m\u001b[43m \u001b[49m\u001b[38;5;241;43m*\u001b[39;49m\u001b[38;5;241;43m*\u001b[39;49m\u001b[43mkwargs\u001b[49m\u001b[43m)\u001b[49m\n",
      "File \u001b[0;32m~/Library/Caches/pypoetry/virtualenvs/non-package-mode-2ArcsiEu-py3.12/lib/python3.12/site-packages/llama_index/core/agent/runner/base.py:646\u001b[0m, in \u001b[0;36mAgentRunner.chat\u001b[0;34m(self, message, chat_history, tool_choice)\u001b[0m\n\u001b[1;32m    641\u001b[0m     tool_choice \u001b[38;5;241m=\u001b[39m \u001b[38;5;28mself\u001b[39m\u001b[38;5;241m.\u001b[39mdefault_tool_choice\n\u001b[1;32m    642\u001b[0m \u001b[38;5;28;01mwith\u001b[39;00m \u001b[38;5;28mself\u001b[39m\u001b[38;5;241m.\u001b[39mcallback_manager\u001b[38;5;241m.\u001b[39mevent(\n\u001b[1;32m    643\u001b[0m     CBEventType\u001b[38;5;241m.\u001b[39mAGENT_STEP,\n\u001b[1;32m    644\u001b[0m     payload\u001b[38;5;241m=\u001b[39m{EventPayload\u001b[38;5;241m.\u001b[39mMESSAGES: [message]},\n\u001b[1;32m    645\u001b[0m ) \u001b[38;5;28;01mas\u001b[39;00m e:\n\u001b[0;32m--> 646\u001b[0m     chat_response \u001b[38;5;241m=\u001b[39m \u001b[38;5;28;43mself\u001b[39;49m\u001b[38;5;241;43m.\u001b[39;49m\u001b[43m_chat\u001b[49m\u001b[43m(\u001b[49m\n\u001b[1;32m    647\u001b[0m \u001b[43m        \u001b[49m\u001b[43mmessage\u001b[49m\u001b[38;5;241;43m=\u001b[39;49m\u001b[43mmessage\u001b[49m\u001b[43m,\u001b[49m\n\u001b[1;32m    648\u001b[0m \u001b[43m        \u001b[49m\u001b[43mchat_history\u001b[49m\u001b[38;5;241;43m=\u001b[39;49m\u001b[43mchat_history\u001b[49m\u001b[43m,\u001b[49m\n\u001b[1;32m    649\u001b[0m \u001b[43m        \u001b[49m\u001b[43mtool_choice\u001b[49m\u001b[38;5;241;43m=\u001b[39;49m\u001b[43mtool_choice\u001b[49m\u001b[43m,\u001b[49m\n\u001b[1;32m    650\u001b[0m \u001b[43m        \u001b[49m\u001b[43mmode\u001b[49m\u001b[38;5;241;43m=\u001b[39;49m\u001b[43mChatResponseMode\u001b[49m\u001b[38;5;241;43m.\u001b[39;49m\u001b[43mWAIT\u001b[49m\u001b[43m,\u001b[49m\n\u001b[1;32m    651\u001b[0m \u001b[43m    \u001b[49m\u001b[43m)\u001b[49m\n\u001b[1;32m    652\u001b[0m     \u001b[38;5;28;01massert\u001b[39;00m \u001b[38;5;28misinstance\u001b[39m(chat_response, AgentChatResponse)\n\u001b[1;32m    653\u001b[0m     e\u001b[38;5;241m.\u001b[39mon_end(payload\u001b[38;5;241m=\u001b[39m{EventPayload\u001b[38;5;241m.\u001b[39mRESPONSE: chat_response})\n",
      "File \u001b[0;32m~/Library/Caches/pypoetry/virtualenvs/non-package-mode-2ArcsiEu-py3.12/lib/python3.12/site-packages/llama_index/core/instrumentation/dispatcher.py:261\u001b[0m, in \u001b[0;36mDispatcher.span.<locals>.wrapper\u001b[0;34m(func, instance, args, kwargs)\u001b[0m\n\u001b[1;32m    253\u001b[0m \u001b[38;5;28mself\u001b[39m\u001b[38;5;241m.\u001b[39mspan_enter(\n\u001b[1;32m    254\u001b[0m     id_\u001b[38;5;241m=\u001b[39mid_,\n\u001b[1;32m    255\u001b[0m     bound_args\u001b[38;5;241m=\u001b[39mbound_args,\n\u001b[0;32m   (...)\u001b[0m\n\u001b[1;32m    258\u001b[0m     tags\u001b[38;5;241m=\u001b[39mtags,\n\u001b[1;32m    259\u001b[0m )\n\u001b[1;32m    260\u001b[0m \u001b[38;5;28;01mtry\u001b[39;00m:\n\u001b[0;32m--> 261\u001b[0m     result \u001b[38;5;241m=\u001b[39m \u001b[43mfunc\u001b[49m\u001b[43m(\u001b[49m\u001b[38;5;241;43m*\u001b[39;49m\u001b[43margs\u001b[49m\u001b[43m,\u001b[49m\u001b[43m \u001b[49m\u001b[38;5;241;43m*\u001b[39;49m\u001b[38;5;241;43m*\u001b[39;49m\u001b[43mkwargs\u001b[49m\u001b[43m)\u001b[49m\n\u001b[1;32m    262\u001b[0m \u001b[38;5;28;01mexcept\u001b[39;00m \u001b[38;5;167;01mBaseException\u001b[39;00m \u001b[38;5;28;01mas\u001b[39;00m e:\n\u001b[1;32m    263\u001b[0m     \u001b[38;5;28mself\u001b[39m\u001b[38;5;241m.\u001b[39mevent(SpanDropEvent(span_id\u001b[38;5;241m=\u001b[39mid_, err_str\u001b[38;5;241m=\u001b[39m\u001b[38;5;28mstr\u001b[39m(e)))\n",
      "File \u001b[0;32m~/Library/Caches/pypoetry/virtualenvs/non-package-mode-2ArcsiEu-py3.12/lib/python3.12/site-packages/llama_index/core/agent/runner/base.py:578\u001b[0m, in \u001b[0;36mAgentRunner._chat\u001b[0;34m(self, message, chat_history, tool_choice, mode)\u001b[0m\n\u001b[1;32m    575\u001b[0m dispatcher\u001b[38;5;241m.\u001b[39mevent(AgentChatWithStepStartEvent(user_msg\u001b[38;5;241m=\u001b[39mmessage))\n\u001b[1;32m    576\u001b[0m \u001b[38;5;28;01mwhile\u001b[39;00m \u001b[38;5;28;01mTrue\u001b[39;00m:\n\u001b[1;32m    577\u001b[0m     \u001b[38;5;66;03m# pass step queue in as argument, assume step executor is stateless\u001b[39;00m\n\u001b[0;32m--> 578\u001b[0m     cur_step_output \u001b[38;5;241m=\u001b[39m \u001b[38;5;28;43mself\u001b[39;49m\u001b[38;5;241;43m.\u001b[39;49m\u001b[43m_run_step\u001b[49m\u001b[43m(\u001b[49m\n\u001b[1;32m    579\u001b[0m \u001b[43m        \u001b[49m\u001b[43mtask\u001b[49m\u001b[38;5;241;43m.\u001b[39;49m\u001b[43mtask_id\u001b[49m\u001b[43m,\u001b[49m\u001b[43m \u001b[49m\u001b[43mmode\u001b[49m\u001b[38;5;241;43m=\u001b[39;49m\u001b[43mmode\u001b[49m\u001b[43m,\u001b[49m\u001b[43m \u001b[49m\u001b[43mtool_choice\u001b[49m\u001b[38;5;241;43m=\u001b[39;49m\u001b[43mtool_choice\u001b[49m\n\u001b[1;32m    580\u001b[0m \u001b[43m    \u001b[49m\u001b[43m)\u001b[49m\n\u001b[1;32m    582\u001b[0m     \u001b[38;5;28;01mif\u001b[39;00m cur_step_output\u001b[38;5;241m.\u001b[39mis_last:\n\u001b[1;32m    583\u001b[0m         result_output \u001b[38;5;241m=\u001b[39m cur_step_output\n",
      "File \u001b[0;32m~/Library/Caches/pypoetry/virtualenvs/non-package-mode-2ArcsiEu-py3.12/lib/python3.12/site-packages/llama_index/core/instrumentation/dispatcher.py:261\u001b[0m, in \u001b[0;36mDispatcher.span.<locals>.wrapper\u001b[0;34m(func, instance, args, kwargs)\u001b[0m\n\u001b[1;32m    253\u001b[0m \u001b[38;5;28mself\u001b[39m\u001b[38;5;241m.\u001b[39mspan_enter(\n\u001b[1;32m    254\u001b[0m     id_\u001b[38;5;241m=\u001b[39mid_,\n\u001b[1;32m    255\u001b[0m     bound_args\u001b[38;5;241m=\u001b[39mbound_args,\n\u001b[0;32m   (...)\u001b[0m\n\u001b[1;32m    258\u001b[0m     tags\u001b[38;5;241m=\u001b[39mtags,\n\u001b[1;32m    259\u001b[0m )\n\u001b[1;32m    260\u001b[0m \u001b[38;5;28;01mtry\u001b[39;00m:\n\u001b[0;32m--> 261\u001b[0m     result \u001b[38;5;241m=\u001b[39m \u001b[43mfunc\u001b[49m\u001b[43m(\u001b[49m\u001b[38;5;241;43m*\u001b[39;49m\u001b[43margs\u001b[49m\u001b[43m,\u001b[49m\u001b[43m \u001b[49m\u001b[38;5;241;43m*\u001b[39;49m\u001b[38;5;241;43m*\u001b[39;49m\u001b[43mkwargs\u001b[49m\u001b[43m)\u001b[49m\n\u001b[1;32m    262\u001b[0m \u001b[38;5;28;01mexcept\u001b[39;00m \u001b[38;5;167;01mBaseException\u001b[39;00m \u001b[38;5;28;01mas\u001b[39;00m e:\n\u001b[1;32m    263\u001b[0m     \u001b[38;5;28mself\u001b[39m\u001b[38;5;241m.\u001b[39mevent(SpanDropEvent(span_id\u001b[38;5;241m=\u001b[39mid_, err_str\u001b[38;5;241m=\u001b[39m\u001b[38;5;28mstr\u001b[39m(e)))\n",
      "File \u001b[0;32m~/Library/Caches/pypoetry/virtualenvs/non-package-mode-2ArcsiEu-py3.12/lib/python3.12/site-packages/llama_index/core/agent/runner/base.py:412\u001b[0m, in \u001b[0;36mAgentRunner._run_step\u001b[0;34m(self, task_id, step, input, mode, **kwargs)\u001b[0m\n\u001b[1;32m    408\u001b[0m \u001b[38;5;66;03m# TODO: figure out if you can dynamically swap in different step executors\u001b[39;00m\n\u001b[1;32m    409\u001b[0m \u001b[38;5;66;03m# not clear when you would do that by theoretically possible\u001b[39;00m\n\u001b[1;32m    411\u001b[0m \u001b[38;5;28;01mif\u001b[39;00m mode \u001b[38;5;241m==\u001b[39m ChatResponseMode\u001b[38;5;241m.\u001b[39mWAIT:\n\u001b[0;32m--> 412\u001b[0m     cur_step_output \u001b[38;5;241m=\u001b[39m \u001b[38;5;28;43mself\u001b[39;49m\u001b[38;5;241;43m.\u001b[39;49m\u001b[43magent_worker\u001b[49m\u001b[38;5;241;43m.\u001b[39;49m\u001b[43mrun_step\u001b[49m\u001b[43m(\u001b[49m\u001b[43mstep\u001b[49m\u001b[43m,\u001b[49m\u001b[43m \u001b[49m\u001b[43mtask\u001b[49m\u001b[43m,\u001b[49m\u001b[43m \u001b[49m\u001b[38;5;241;43m*\u001b[39;49m\u001b[38;5;241;43m*\u001b[39;49m\u001b[43mkwargs\u001b[49m\u001b[43m)\u001b[49m\n\u001b[1;32m    413\u001b[0m \u001b[38;5;28;01melif\u001b[39;00m mode \u001b[38;5;241m==\u001b[39m ChatResponseMode\u001b[38;5;241m.\u001b[39mSTREAM:\n\u001b[1;32m    414\u001b[0m     cur_step_output \u001b[38;5;241m=\u001b[39m \u001b[38;5;28mself\u001b[39m\u001b[38;5;241m.\u001b[39magent_worker\u001b[38;5;241m.\u001b[39mstream_step(step, task, \u001b[38;5;241m*\u001b[39m\u001b[38;5;241m*\u001b[39mkwargs)\n",
      "File \u001b[0;32m~/Library/Caches/pypoetry/virtualenvs/non-package-mode-2ArcsiEu-py3.12/lib/python3.12/site-packages/llama_index/core/instrumentation/dispatcher.py:261\u001b[0m, in \u001b[0;36mDispatcher.span.<locals>.wrapper\u001b[0;34m(func, instance, args, kwargs)\u001b[0m\n\u001b[1;32m    253\u001b[0m \u001b[38;5;28mself\u001b[39m\u001b[38;5;241m.\u001b[39mspan_enter(\n\u001b[1;32m    254\u001b[0m     id_\u001b[38;5;241m=\u001b[39mid_,\n\u001b[1;32m    255\u001b[0m     bound_args\u001b[38;5;241m=\u001b[39mbound_args,\n\u001b[0;32m   (...)\u001b[0m\n\u001b[1;32m    258\u001b[0m     tags\u001b[38;5;241m=\u001b[39mtags,\n\u001b[1;32m    259\u001b[0m )\n\u001b[1;32m    260\u001b[0m \u001b[38;5;28;01mtry\u001b[39;00m:\n\u001b[0;32m--> 261\u001b[0m     result \u001b[38;5;241m=\u001b[39m \u001b[43mfunc\u001b[49m\u001b[43m(\u001b[49m\u001b[38;5;241;43m*\u001b[39;49m\u001b[43margs\u001b[49m\u001b[43m,\u001b[49m\u001b[43m \u001b[49m\u001b[38;5;241;43m*\u001b[39;49m\u001b[38;5;241;43m*\u001b[39;49m\u001b[43mkwargs\u001b[49m\u001b[43m)\u001b[49m\n\u001b[1;32m    262\u001b[0m \u001b[38;5;28;01mexcept\u001b[39;00m \u001b[38;5;167;01mBaseException\u001b[39;00m \u001b[38;5;28;01mas\u001b[39;00m e:\n\u001b[1;32m    263\u001b[0m     \u001b[38;5;28mself\u001b[39m\u001b[38;5;241m.\u001b[39mevent(SpanDropEvent(span_id\u001b[38;5;241m=\u001b[39mid_, err_str\u001b[38;5;241m=\u001b[39m\u001b[38;5;28mstr\u001b[39m(e)))\n",
      "File \u001b[0;32m~/Library/Caches/pypoetry/virtualenvs/non-package-mode-2ArcsiEu-py3.12/lib/python3.12/site-packages/llama_index/core/callbacks/utils.py:41\u001b[0m, in \u001b[0;36mtrace_method.<locals>.decorator.<locals>.wrapper\u001b[0;34m(self, *args, **kwargs)\u001b[0m\n\u001b[1;32m     39\u001b[0m callback_manager \u001b[38;5;241m=\u001b[39m cast(CallbackManager, callback_manager)\n\u001b[1;32m     40\u001b[0m \u001b[38;5;28;01mwith\u001b[39;00m callback_manager\u001b[38;5;241m.\u001b[39mas_trace(trace_id):\n\u001b[0;32m---> 41\u001b[0m     \u001b[38;5;28;01mreturn\u001b[39;00m \u001b[43mfunc\u001b[49m\u001b[43m(\u001b[49m\u001b[38;5;28;43mself\u001b[39;49m\u001b[43m,\u001b[49m\u001b[43m \u001b[49m\u001b[38;5;241;43m*\u001b[39;49m\u001b[43margs\u001b[49m\u001b[43m,\u001b[49m\u001b[43m \u001b[49m\u001b[38;5;241;43m*\u001b[39;49m\u001b[38;5;241;43m*\u001b[39;49m\u001b[43mkwargs\u001b[49m\u001b[43m)\u001b[49m\n",
      "File \u001b[0;32m~/Library/Caches/pypoetry/virtualenvs/non-package-mode-2ArcsiEu-py3.12/lib/python3.12/site-packages/llama_index/core/agent/react/step.py:781\u001b[0m, in \u001b[0;36mReActAgentWorker.run_step\u001b[0;34m(self, step, task, **kwargs)\u001b[0m\n\u001b[1;32m    778\u001b[0m \u001b[38;5;129m@trace_method\u001b[39m(\u001b[38;5;124m\"\u001b[39m\u001b[38;5;124mrun_step\u001b[39m\u001b[38;5;124m\"\u001b[39m)\n\u001b[1;32m    779\u001b[0m \u001b[38;5;28;01mdef\u001b[39;00m \u001b[38;5;21mrun_step\u001b[39m(\u001b[38;5;28mself\u001b[39m, step: TaskStep, task: Task, \u001b[38;5;241m*\u001b[39m\u001b[38;5;241m*\u001b[39mkwargs: Any) \u001b[38;5;241m-\u001b[39m\u001b[38;5;241m>\u001b[39m TaskStepOutput:\n\u001b[1;32m    780\u001b[0m \u001b[38;5;250m    \u001b[39m\u001b[38;5;124;03m\"\"\"Run step.\"\"\"\u001b[39;00m\n\u001b[0;32m--> 781\u001b[0m     \u001b[38;5;28;01mreturn\u001b[39;00m \u001b[38;5;28;43mself\u001b[39;49m\u001b[38;5;241;43m.\u001b[39;49m\u001b[43m_run_step\u001b[49m\u001b[43m(\u001b[49m\u001b[43mstep\u001b[49m\u001b[43m,\u001b[49m\u001b[43m \u001b[49m\u001b[43mtask\u001b[49m\u001b[43m)\u001b[49m\n",
      "File \u001b[0;32m~/Library/Caches/pypoetry/virtualenvs/non-package-mode-2ArcsiEu-py3.12/lib/python3.12/site-packages/llama_index/core/agent/react/step.py:573\u001b[0m, in \u001b[0;36mReActAgentWorker._run_step\u001b[0;34m(self, step, task)\u001b[0m\n\u001b[1;32m    569\u001b[0m reasoning_steps, is_done \u001b[38;5;241m=\u001b[39m \u001b[38;5;28mself\u001b[39m\u001b[38;5;241m.\u001b[39m_process_actions(\n\u001b[1;32m    570\u001b[0m     task, tools, output\u001b[38;5;241m=\u001b[39mchat_response\n\u001b[1;32m    571\u001b[0m )\n\u001b[1;32m    572\u001b[0m task\u001b[38;5;241m.\u001b[39mextra_state[\u001b[38;5;124m\"\u001b[39m\u001b[38;5;124mcurrent_reasoning\u001b[39m\u001b[38;5;124m\"\u001b[39m]\u001b[38;5;241m.\u001b[39mextend(reasoning_steps)\n\u001b[0;32m--> 573\u001b[0m agent_response \u001b[38;5;241m=\u001b[39m \u001b[38;5;28;43mself\u001b[39;49m\u001b[38;5;241;43m.\u001b[39;49m\u001b[43m_get_response\u001b[49m\u001b[43m(\u001b[49m\n\u001b[1;32m    574\u001b[0m \u001b[43m    \u001b[49m\u001b[43mtask\u001b[49m\u001b[38;5;241;43m.\u001b[39;49m\u001b[43mextra_state\u001b[49m\u001b[43m[\u001b[49m\u001b[38;5;124;43m\"\u001b[39;49m\u001b[38;5;124;43mcurrent_reasoning\u001b[39;49m\u001b[38;5;124;43m\"\u001b[39;49m\u001b[43m]\u001b[49m\u001b[43m,\u001b[49m\u001b[43m \u001b[49m\u001b[43mtask\u001b[49m\u001b[38;5;241;43m.\u001b[39;49m\u001b[43mextra_state\u001b[49m\u001b[43m[\u001b[49m\u001b[38;5;124;43m\"\u001b[39;49m\u001b[38;5;124;43msources\u001b[39;49m\u001b[38;5;124;43m\"\u001b[39;49m\u001b[43m]\u001b[49m\n\u001b[1;32m    575\u001b[0m \u001b[43m\u001b[49m\u001b[43m)\u001b[49m\n\u001b[1;32m    576\u001b[0m \u001b[38;5;28;01mif\u001b[39;00m is_done:\n\u001b[1;32m    577\u001b[0m     task\u001b[38;5;241m.\u001b[39mextra_state[\u001b[38;5;124m\"\u001b[39m\u001b[38;5;124mnew_memory\u001b[39m\u001b[38;5;124m\"\u001b[39m]\u001b[38;5;241m.\u001b[39mput(\n\u001b[1;32m    578\u001b[0m         ChatMessage(content\u001b[38;5;241m=\u001b[39magent_response\u001b[38;5;241m.\u001b[39mresponse, role\u001b[38;5;241m=\u001b[39mMessageRole\u001b[38;5;241m.\u001b[39mASSISTANT)\n\u001b[1;32m    579\u001b[0m     )\n",
      "File \u001b[0;32m~/Library/Caches/pypoetry/virtualenvs/non-package-mode-2ArcsiEu-py3.12/lib/python3.12/site-packages/llama_index/core/agent/react/step.py:434\u001b[0m, in \u001b[0;36mReActAgentWorker._get_response\u001b[0;34m(self, current_reasoning, sources)\u001b[0m\n\u001b[1;32m    432\u001b[0m     \u001b[38;5;28;01mraise\u001b[39;00m \u001b[38;5;167;01mValueError\u001b[39;00m(\u001b[38;5;124m\"\u001b[39m\u001b[38;5;124mNo reasoning steps were taken.\u001b[39m\u001b[38;5;124m\"\u001b[39m)\n\u001b[1;32m    433\u001b[0m \u001b[38;5;28;01melif\u001b[39;00m \u001b[38;5;28mlen\u001b[39m(current_reasoning) \u001b[38;5;241m==\u001b[39m \u001b[38;5;28mself\u001b[39m\u001b[38;5;241m.\u001b[39m_max_iterations:\n\u001b[0;32m--> 434\u001b[0m     \u001b[38;5;28;01mraise\u001b[39;00m \u001b[38;5;167;01mValueError\u001b[39;00m(\u001b[38;5;124m\"\u001b[39m\u001b[38;5;124mReached max iterations.\u001b[39m\u001b[38;5;124m\"\u001b[39m)\n\u001b[1;32m    436\u001b[0m \u001b[38;5;28;01mif\u001b[39;00m \u001b[38;5;28misinstance\u001b[39m(current_reasoning[\u001b[38;5;241m-\u001b[39m\u001b[38;5;241m1\u001b[39m], ResponseReasoningStep):\n\u001b[1;32m    437\u001b[0m     response_step \u001b[38;5;241m=\u001b[39m cast(ResponseReasoningStep, current_reasoning[\u001b[38;5;241m-\u001b[39m\u001b[38;5;241m1\u001b[39m])\n",
      "\u001b[0;31mValueError\u001b[0m: Reached max iterations."
     ]
    }
   ],
   "source": [
    "response = agent.chat(\"\"\"\n",
    "Using the profile data available through the query engine, focus on the user's interests, groups, and what they're looking for from events. Then, follow these steps:\n",
    "Use the profile_10k query engine to retrieve the user's profile data. This data contains the user's interests, groups they belong to, and what they're looking for in events. Never retrieve profile information as events.\n",
    "Access the event query engine to retrieve event data. Each event has details including start and end times, summary, description, location, and URL.\n",
    "Compare the user's interests, group affiliations, and preferences with the event summaries and descriptions.\n",
    "Evaluate how well each event aligns with the user's interests and what they're looking for in events. This alignment is the primary factor in determining how \"fun\" or enjoyable the event will be for the user. Note that time frame and distance from the user's location should not be considered in this evaluation.\n",
    "Create a ranked list of the top 10 events that are most likely to be enjoyable for the user, based on this evaluation. Aim for a diverse selection of events if the user has varied interests. If 10 suitable events are not available, include as many as possible and note this in your response.\n",
    "For each event in the list, provide: a) The event summary b) A brief explanation of why this event is likely to be enjoyable for the user, referencing specific interests, group affiliations, or preferences from their profile c) The event date and location d) The event URL for more information\n",
    "Present the list in a numbered format, starting with the most highly recommended event at number 1.\n",
    "Conclude with a friendly message encouraging the user to check out these events and mentioning that they can ask for more recommendations if needed.\n",
    "Remember to maintain a friendly and helpful tone throughout the response.\"\"\")\n",
    "print(str(response))"
   ]
  },
  {
   "cell_type": "code",
   "execution_count": null,
   "metadata": {},
   "outputs": [],
   "source": []
  }
 ],
 "metadata": {
  "kernelspec": {
   "display_name": "Python 3 (ipykernel)",
   "language": "python",
   "name": "python3"
  },
  "language_info": {
   "codemirror_mode": {
    "name": "ipython",
    "version": 3
   },
   "file_extension": ".py",
   "mimetype": "text/x-python",
   "name": "python",
   "nbconvert_exporter": "python",
   "pygments_lexer": "ipython3",
   "version": "3.12.5"
  }
 },
 "nbformat": 4,
 "nbformat_minor": 4
}
