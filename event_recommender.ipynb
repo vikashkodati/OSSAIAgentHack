{
 "cells": [
  {
   "cell_type": "markdown",
   "metadata": {
    "editable": true,
    "slideshow": {
     "slide_type": ""
    },
    "tags": []
   },
   "source": [
    "# Llama 3.1 Rag Agent with LlamaIndex\n",
    "\n",
    "<a target=\"_blank\" href=\"https://colab.research.google.com/github/ytang07/ai_agents_cookbooks/blob/main/llamaindex/llama31_8b_rag_agent.ipynb\">\n",
    "  <img src=\"https://colab.research.google.com/assets/colab-badge.svg\" alt=\"Open In Colab\"/>\n",
    "</a>\n",
    "\n",
    "This notebook will walk you through building a LlamaIndex ReactAgent using Llama 3.1 70b. We will be using [OctoAI](https://octo.ai) as our embeddings and llm provider.\n",
    "\n",
    "## Install Dependencies"
   ]
  },
  {
   "cell_type": "code",
   "execution_count": null,
   "metadata": {},
   "outputs": [],
   "source": [
    "# ! pip install -qU llama-index llama-index-llms-openai llama-index-readers-file octoai llama-index-llms-octoai llama-index-embeddings-octoai llama-index-embeddings-openai llama-index-llms-openai-like\n",
    "\n",
    "# ! pip freeze | grep llama-index-core\n",
    "# ! pip freeze | grep embeddings-openai"
   ]
  },
  {
   "cell_type": "markdown",
   "metadata": {},
   "source": [
    "## Setup API Keys\n",
    "To run the rest of the notebook you will need access to an OctoAI API key. You can sign up for an account [here](https://octoai.cloud/). If you need further guidance you can check OctoAI's [documentation page](https://octo.ai/docs/getting-started/how-to-create-octoai-access-token)."
   ]
  },
  {
   "cell_type": "code",
   "execution_count": 3,
   "metadata": {},
   "outputs": [],
   "source": [
    "from os import environ\n",
    "# from getpass import getpass\n",
    "# environ[\"OCTOAI_API_KEY\"] = getpass(\"Input your OCTOAI API key: \")\n",
    "from dotenv import load_dotenv\n",
    "\n",
    "load_dotenv()\n",
    "\n",
    "OCTOAI_API_KEY = environ[\"OCTOAI_API_KEY\"]"
   ]
  },
  {
   "cell_type": "markdown",
   "metadata": {},
   "source": [
    "## Import libraries and setup LlamaIndex"
   ]
  },
  {
   "cell_type": "code",
   "execution_count": 12,
   "metadata": {
    "editable": true,
    "slideshow": {
     "slide_type": ""
    },
    "tags": []
   },
   "outputs": [],
   "source": [
    "from llama_index.core import (\n",
    "    SimpleDirectoryReader,\n",
    "    VectorStoreIndex,\n",
    "    StorageContext,\n",
    "    load_index_from_storage,\n",
    ")\n",
    "from llama_index.core.tools import QueryEngineTool, ToolMetadata\n",
    "from llama_index.embeddings.octoai import OctoAIEmbedding\n",
    "from llama_index.core import Settings as LlamaGlobalSettings\n",
    "from llama_index.core.agent import ReActAgent\n",
    "from llama_index.llms.openai_like import OpenAILike\n",
    "\n",
    "# Set the default model to use for embeddings\n",
    "LlamaGlobalSettings.embed_model = OctoAIEmbedding()\n",
    "\n",
    "# Create an llm object to use for the QueryEngine and the ReActAgent\n",
    "llm = OpenAILike(\n",
    "    model=\"meta-llama-3.1-70b-instruct\",\n",
    "    api_base=\"https://text.octoai.run/v1\",\n",
    "    api_key=environ[\"OCTOAI_API_KEY\"],\n",
    "    context_window=100000,\n",
    "    is_function_calling_model=True,\n",
    "    is_chat_model=True,\n",
    ")\n"
   ]
  },
  {
   "cell_type": "markdown",
   "metadata": {
    "editable": true,
    "slideshow": {
     "slide_type": ""
    },
    "tags": []
   },
   "source": [
    "## Load Documents"
   ]
  },
  {
   "cell_type": "code",
   "execution_count": 33,
   "metadata": {
    "editable": true,
    "slideshow": {
     "slide_type": ""
    },
    "tags": []
   },
   "outputs": [],
   "source": [
    "try:\n",
    "    storage_context = StorageContext.from_defaults(\n",
    "        persist_dir=\"./storage/events\"\n",
    "    )\n",
    "    luma_index = load_index_from_storage(storage_context)\n",
    "\n",
    "    storage_context1 = StorageContext.from_defaults(\n",
    "        persist_dir=\"./storage/profiles\"\n",
    "    )\n",
    "    profile_index = load_index_from_storage(storage_context1)\n",
    "\n",
    "    index_loaded = False\n",
    "except:\n",
    "    index_loaded = False"
   ]
  },
  {
   "cell_type": "markdown",
   "metadata": {
    "editable": true,
    "slideshow": {
     "slide_type": ""
    },
    "tags": []
   },
   "source": [
    "This is the point we create our vector indexes, by calculating the embedding vectors for each of the chunks. You only need to run this once."
   ]
  },
  {
   "cell_type": "code",
   "execution_count": 35,
   "metadata": {
    "editable": true,
    "slideshow": {
     "slide_type": ""
    },
    "tags": []
   },
   "outputs": [
    {
     "name": "stderr",
     "output_type": "stream",
     "text": [
      "Ignoring wrong pointing object 46 0 (offset 0)\n",
      "Ignoring wrong pointing object 48 0 (offset 0)\n",
      "Ignoring wrong pointing object 50 0 (offset 0)\n",
      "Ignoring wrong pointing object 52 0 (offset 0)\n"
     ]
    },
    {
     "data": {
      "application/vnd.jupyter.widget-view+json": {
       "model_id": "49d30150f4a04c36a8a8c7b424ecfe23",
       "version_major": 2,
       "version_minor": 0
      },
      "text/plain": [
       "Parsing nodes:   0%|          | 0/2 [00:00<?, ?it/s]"
      ]
     },
     "metadata": {},
     "output_type": "display_data"
    },
    {
     "data": {
      "application/vnd.jupyter.widget-view+json": {
       "model_id": "e1e19b1544ce473085c6b01f937d886c",
       "version_major": 2,
       "version_minor": 0
      },
      "text/plain": [
       "Generating embeddings:   0%|          | 0/16 [00:00<?, ?it/s]"
      ]
     },
     "metadata": {},
     "output_type": "display_data"
    },
    {
     "data": {
      "application/vnd.jupyter.widget-view+json": {
       "model_id": "97460aeea6f04c72b2800d31bc755b10",
       "version_major": 2,
       "version_minor": 0
      },
      "text/plain": [
       "Parsing nodes:   0%|          | 0/4 [00:00<?, ?it/s]"
      ]
     },
     "metadata": {},
     "output_type": "display_data"
    },
    {
     "data": {
      "application/vnd.jupyter.widget-view+json": {
       "model_id": "ac79489e87d24a00a512ba6f7a625a44",
       "version_major": 2,
       "version_minor": 0
      },
      "text/plain": [
       "Generating embeddings:   0%|          | 0/4 [00:00<?, ?it/s]"
      ]
     },
     "metadata": {},
     "output_type": "display_data"
    }
   ],
   "source": [
    "if not index_loaded:\n",
    "    # load data\n",
    "    event_docs = SimpleDirectoryReader(\n",
    "        input_files=[\"./luma.json\", \"./meetup_events.json\"]\n",
    "    ).load_data()\n",
    "    profile_docs = SimpleDirectoryReader(\n",
    "        input_files=[\"./profiles/kris.pdf\"]\n",
    "    ).load_data()\n",
    "    \n",
    "    # build index\n",
    "    event_index = VectorStoreIndex.from_documents(event_docs, show_progress=True)\n",
    "    profile_index = VectorStoreIndex.from_documents(profile_docs, show_progress=True)\n",
    "\n",
    "    # persist index\n",
    "    event_index.storage_context.persist(persist_dir=\"./storage/events\")\n",
    "    profile_index.storage_context.persist(persist_dir=\"./storage/profiles\")"
   ]
  },
  {
   "cell_type": "markdown",
   "metadata": {},
   "source": [
    "Now create the query engines."
   ]
  },
  {
   "cell_type": "code",
   "execution_count": 36,
   "metadata": {},
   "outputs": [],
   "source": [
    "event_engine = event_index.as_query_engine(similarity_top_k=3, llm=llm)\n",
    "\n",
    "profile_engine = profile_index.as_query_engine(similarity_top_k=3, llm=llm)"
   ]
  },
  {
   "cell_type": "markdown",
   "metadata": {},
   "source": [
    "We can now define the query engines as tools that will be used by the agent.\n",
    "\n",
    "As there is a query engine per document we need to also define one tool for each of them."
   ]
  },
  {
   "cell_type": "code",
   "execution_count": 37,
   "metadata": {},
   "outputs": [],
   "source": [
    "query_engine_tools = [\n",
    "    QueryEngineTool(\n",
    "        query_engine=event_engine,\n",
    "        metadata=ToolMetadata(\n",
    "            name=\"event_10k\",\n",
    "            description=(\n",
    "                \"Provides information about events. \"\n",
    "                \"Use a detailed plain text question as input to the tool.\"\n",
    "            ),\n",
    "        ),\n",
    "    ),\n",
    "    QueryEngineTool(\n",
    "        query_engine=profile_engine,\n",
    "        metadata=ToolMetadata(\n",
    "            name=\"profile_10k\",\n",
    "            description=(\n",
    "                \"Provides information about attendee profiles \"\n",
    "                \"Use a detailed plain text question as input to the tool.\"\n",
    "            ),\n",
    "        ),\n",
    "    ),\n",
    "]"
   ]
  },
  {
   "cell_type": "markdown",
   "metadata": {},
   "source": [
    "## Creating the Agent\n",
    "Now we have all the elements to create a LlamaIndex ReactAgent"
   ]
  },
  {
   "cell_type": "code",
   "execution_count": 41,
   "metadata": {},
   "outputs": [],
   "source": [
    "agent = ReActAgent.from_tools(\n",
    "    query_engine_tools,\n",
    "    llm=llm,\n",
    "    verbose=True,\n",
    "    max_turns=20,\n",
    ")"
   ]
  },
  {
   "cell_type": "markdown",
   "metadata": {},
   "source": [
    "Now we can interact with the agent and ask a question."
   ]
  },
  {
   "cell_type": "code",
   "execution_count": 42,
   "metadata": {
    "editable": true,
    "slideshow": {
     "slide_type": ""
    },
    "tags": []
   },
   "outputs": [
    {
     "name": "stdout",
     "output_type": "stream",
     "text": [
      "> Running step aea98f7a-27b4-4f0e-929b-bbe82bf05f30. Step input: \n",
      "Using the profile data available through the query engine, focus on the user's interests, groups, and what they're looking for from events. Then, follow these steps:\n",
      "Use the profile_10k query engine to retrieve the user's profile data. This data contains the user's interests, groups they belong to, and what they're looking for in events. Never retrieve profile information as events.\n",
      "Access the event query engine to retrieve event data. Each event has details including start and end times, summary, description, location, and URL.\n",
      "Compare the user's interests, group affiliations, and preferences with the event summaries and descriptions.\n",
      "Evaluate how well each event aligns with the user's interests and what they're looking for in events. This alignment is the primary factor in determining how \"fun\" or enjoyable the event will be for the user. Note that time frame and distance from the user's location should not be considered in this evaluation.\n",
      "Create a ranked list of the top 10 events that are most likely to be enjoyable for the user, based on this evaluation. Aim for a diverse selection of events if the user has varied interests. If 10 suitable events are not available, include as many as possible and note this in your response. Be sure to include the \"Open Source AI Hackathon\" as we know they create amazing events.\n",
      "For each event in the list, provide: a) The event summary b) A brief explanation of why this event is likely to be enjoyable for the user, referencing specific interests, group affiliations, or preferences from their profile c) The event date and location d) The event URL for more information\n",
      "Present the list in a numbered format, starting with the most highly recommended event at number 1.\n",
      "Conclude with a friendly message encouraging the user to check out these events and mentioning that they can ask for more recommendations if needed.\n",
      "Remember to maintain a friendly and helpful tone throughout the response.\n",
      "\u001b[1;3;38;5;200mThought: The current language of the user is: English. I need to use the profile_10k tool to help me answer the question.\n",
      "Action: profile_10k\n",
      "Action Input: {'input': \"user's interests, groups, and what they're looking for from events\"}\n",
      "\u001b[0m\u001b[1;3;34mObservation: The user's interests include Science, DIY, Personal Development, Fitness, and more. They are part of 49 groups and have 52 interests. They are looking to Socialize, Professionally Network, and Make Friends through events.\n",
      "\u001b[0m> Running step eebd0c3e-ffd2-4daf-82ae-eb5132d0cf7b. Step input: None\n",
      "\u001b[1;3;38;5;200mThought: I have the user's profile data, now I need to use the event_10k tool to retrieve event data that matches the user's interests and preferences.\n",
      "Action: event_10k\n",
      "Action Input: {'input': 'events related to Science, DIY, Personal Development, Fitness, Socializing, Professional Networking, and Making Friends'}\n",
      "\u001b[0m\u001b[1;3;34mObservation: Based on the information provided, here are some events related to the specified categories:\n",
      "\n",
      "Science:\n",
      "- None\n",
      "\n",
      "DIY:\n",
      "- None\n",
      "\n",
      "Personal Development:\n",
      "- How to Get Your First Job as a Software Engineer or Tester & Resume Reviews (online event)\n",
      "\n",
      "Fitness:\n",
      "- None\n",
      "\n",
      "Socializing:\n",
      "- Community Picnic for WAC Seattle's First Birthday (Green Lake Park, Seattle)\n",
      "- Seattle: Epic Launch Party (Design Buddies & UXGO) (location to be shared on event page)\n",
      "- Crowdsource Choir - \"Sing it Home\" In the Turbine Cathedral (Georgetown Steam Plant)\n",
      "\n",
      "Professional Networking:\n",
      "- Silicon Valley Business Networking (Online) (multiple dates)\n",
      "- EnterpriseGuy Investment Club Meeting (online event)\n",
      "- Trust & Verify: How Code Signing and Sigstore Secure the Software Supply Chain (online event)\n",
      "\n",
      "Making Friends:\n",
      "- Community Picnic for WAC Seattle's First Birthday (Green Lake Park, Seattle)\n",
      "- Seattle: Epic Launch Party (Design Buddies & UXGO) (location to be shared on event page)\n",
      "- Crowdsource Choir - \"Sing it Home\" In the Turbine Cathedral (Georgetown Steam Plant)\n",
      "\u001b[0m> Running step 2d4acc5d-2655-4d19-bf6b-ba939ee49399. Step input: None\n",
      "\u001b[1;3;38;5;200mThought: I have the event data, now I need to compare the user's interests, group affiliations, and preferences with the event summaries and descriptions to evaluate how well each event aligns with the user's interests and what they're looking for in events.\n",
      "Action: event_10k\n",
      "Action Input: {'input': 'Open Source AI Hackathon'}\n",
      "\u001b[0m\u001b[1;3;34mObservation: The Open Source AI Hackathon #8 is scheduled to take place on August 24th, starting at 4:00 PM and ending at 1:00 AM the next day. It will be held at the Microsoft Reactor Redmond. The event will feature a hands-on tutorial, and attendees are required to bring their laptops and have a recent version of Python installed. The event promises to provide a hands-on, practical training to learn how to build AI, along with pizza and snacks.\n",
      "\u001b[0m> Running step f08f99ac-1f52-43cc-8119-c7a9729e97fb. Step input: None\n",
      "\u001b[1;3;38;5;200mThought: I have the event data, now I need to evaluate how well each event aligns with the user's interests and what they're looking for in events, and create a ranked list of the top 10 events that are most likely to be enjoyable for the user.\n",
      " \n",
      "Since there are not many events available, I will include as many as possible and note this in my response.\n",
      "Answer: Based on the user's interests and preferences, here's a ranked list of the top events that are most likely to be enjoyable for the user:\n",
      "\n",
      "1. Open Source AI Hackathon #8\n",
      "   - Event Summary: Hands-on tutorial to learn how to build AI, with pizza and snacks.\n",
      "   - Why it's likely to be enjoyable: The user is interested in Science and Personal Development, and this event provides a hands-on, practical training to learn how to build AI.\n",
      "   - Event Date and Location: August 24th, Microsoft Reactor Redmond\n",
      "   - Event URL: (not provided)\n",
      "\n",
      "2. How to Get Your First Job as a Software Engineer or Tester & Resume Reviews\n",
      "   - Event Summary: Online event to help users get their first job as a software engineer or tester, with resume reviews.\n",
      "   - Why it's likely to be enjoyable: The user is interested in Personal Development and Professionally Networking, and this event provides guidance on getting a job in the software industry.\n",
      "   - Event Date and Location: (not provided)\n",
      "   - Event URL: (not provided)\n",
      "\n",
      "3. Community Picnic for WAC Seattle's First Birthday\n",
      "   - Event Summary: Community picnic to celebrate WAC Seattle's first birthday, at Green Lake Park, Seattle.\n",
      "   - Why it's likely to be enjoyable: The user is looking to Socialize and Make Friends, and this event provides a casual, outdoor setting to meet new people.\n",
      "   - Event Date and Location: (not provided), Green Lake Park, Seattle\n",
      "   - Event URL: (not provided)\n",
      "\n",
      "4. Seattle: Epic Launch Party (Design Buddies & UXGO)\n",
      "   - Event Summary: Launch party for Design Buddies & UXGO, with location to be shared on the event page.\n",
      "   - Why it's likely to be enjoyable: The user is looking to Socialize and Make Friends, and this event provides a fun, celebratory atmosphere to meet new people.\n",
      "   - Event Date and Location: (not provided), location to be shared on event page\n",
      "   - Event URL: (not provided)\n",
      "\n",
      "5. Crowdsource Choir - \"Sing it\n",
      "\u001b[0mBased on the user's interests and preferences, here's a ranked list of the top events that are most likely to be enjoyable for the user:\n",
      "\n",
      "1. Open Source AI Hackathon #8\n",
      "   - Event Summary: Hands-on tutorial to learn how to build AI, with pizza and snacks.\n",
      "   - Why it's likely to be enjoyable: The user is interested in Science and Personal Development, and this event provides a hands-on, practical training to learn how to build AI.\n",
      "   - Event Date and Location: August 24th, Microsoft Reactor Redmond\n",
      "   - Event URL: (not provided)\n",
      "\n",
      "2. How to Get Your First Job as a Software Engineer or Tester & Resume Reviews\n",
      "   - Event Summary: Online event to help users get their first job as a software engineer or tester, with resume reviews.\n",
      "   - Why it's likely to be enjoyable: The user is interested in Personal Development and Professionally Networking, and this event provides guidance on getting a job in the software industry.\n",
      "   - Event Date and Location: (not provided)\n",
      "   - Event URL: (not provided)\n",
      "\n",
      "3. Community Picnic for WAC Seattle's First Birthday\n",
      "   - Event Summary: Community picnic to celebrate WAC Seattle's first birthday, at Green Lake Park, Seattle.\n",
      "   - Why it's likely to be enjoyable: The user is looking to Socialize and Make Friends, and this event provides a casual, outdoor setting to meet new people.\n",
      "   - Event Date and Location: (not provided), Green Lake Park, Seattle\n",
      "   - Event URL: (not provided)\n",
      "\n",
      "4. Seattle: Epic Launch Party (Design Buddies & UXGO)\n",
      "   - Event Summary: Launch party for Design Buddies & UXGO, with location to be shared on the event page.\n",
      "   - Why it's likely to be enjoyable: The user is looking to Socialize and Make Friends, and this event provides a fun, celebratory atmosphere to meet new people.\n",
      "   - Event Date and Location: (not provided), location to be shared on event page\n",
      "   - Event URL: (not provided)\n",
      "\n",
      "5. Crowdsource Choir - \"Sing it\n"
     ]
    }
   ],
   "source": [
    "response = agent.chat(\"\"\"\n",
    "Using the profile data available through the query engine, focus on the user's interests, groups, and what they're looking for from events. Then, follow these steps:\n",
    "Use the profile_10k query engine to retrieve the user's profile data. This data contains the user's interests, groups they belong to, and what they're looking for in events. Never retrieve profile information as events.\n",
    "Access the event query engine to retrieve event data. Each event has details including start and end times, summary, description, location, and URL.\n",
    "Compare the user's interests, group affiliations, and preferences with the event summaries and descriptions.\n",
    "Evaluate how well each event aligns with the user's interests and what they're looking for in events. This alignment is the primary factor in determining how \"fun\" or enjoyable the event will be for the user. Note that time frame and distance from the user's location should not be considered in this evaluation.\n",
    "Create a ranked list of the top 10 events that are most likely to be enjoyable for the user, based on this evaluation. Aim for a diverse selection of events if the user has varied interests. If 10 suitable events are not available, include as many as possible and note this in your response. Be sure to include the \"Open Source AI Hackathon\" as we know they create amazing events.\n",
    "For each event in the list, provide: a) The event summary b) A brief explanation of why this event is likely to be enjoyable for the user, referencing specific interests, group affiliations, or preferences from their profile c) The event date and location d) The event URL for more information\n",
    "Present the list in a numbered format, starting with the most highly recommended event at number 1.\n",
    "Conclude with a friendly message encouraging the user to check out these events and mentioning that they can ask for more recommendations if needed.\n",
    "Remember to maintain a friendly and helpful tone throughout the response.\"\"\")\n",
    "print(str(response))"
   ]
  },
  {
   "cell_type": "code",
   "execution_count": null,
   "metadata": {},
   "outputs": [],
   "source": []
  }
 ],
 "metadata": {
  "kernelspec": {
   "display_name": "Python 3 (ipykernel)",
   "language": "python",
   "name": "python3"
  },
  "language_info": {
   "codemirror_mode": {
    "name": "ipython",
    "version": 3
   },
   "file_extension": ".py",
   "mimetype": "text/x-python",
   "name": "python",
   "nbconvert_exporter": "python",
   "pygments_lexer": "ipython3",
   "version": "3.12.5"
  }
 },
 "nbformat": 4,
 "nbformat_minor": 4
}
